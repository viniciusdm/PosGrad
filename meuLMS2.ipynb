{
 "cells": [
  {
   "cell_type": "code",
   "execution_count": 6,
   "metadata": {},
   "outputs": [
    {
     "name": "stdout",
     "output_type": "stream",
     "text": [
      "1.26017272047123*y\n",
      "[-1.  1.  1.  1.  1.  1.  1. -1. -1.  1.]\n",
      "[ 0. -1.  1.  1.  1.  1.  1.  1.  1.  1.]\n"
     ]
    }
   ],
   "source": [
    "import random\n",
    "import math\n",
    "import numpy as np\n",
    "from matplotlib import pyplot as plt\n",
    "from sympy import symbols, solve\n",
    "\n",
    "N = 10000\n",
    "d = -5\n",
    "r = 4\n",
    "w = 2\n",
    "mu = 0.0001\n",
    "\n",
    "xn = []\n",
    "dn = np.zeros(N)\n",
    "wn = np.zeros((2,N+1))\n",
    "yn = np.zeros(N)\n",
    "en = np.zeros(N)\n",
    "yf = np.zeros(N)\n",
    "\n",
    "for i in range(N):\n",
    "    lowHigh = random.randint(0, 1)\n",
    "    leftRight = random.randint(0, 1)\n",
    "    if lowHigh == 0:\n",
    "        amp = math.pi*random.random()\n",
    "        if leftRight == 0:\n",
    "            xx = (random.random())*math.cos(amp)*(w/2)+(-r-(w/2))*math.cos(amp)\n",
    "        else: \n",
    "            xx = random.random()*math.cos(amp)*(w/2)+(r+(w/2))*math.cos(amp)\n",
    "        yy = random.random()*math.sin(amp)*w+r*math.sin(amp)\n",
    "        dn[i] = 1\n",
    "    else:\n",
    "        amp = math.pi*random.random()+math.pi\n",
    "        if leftRight == 0:\n",
    "            xx = r + (w/2) + random.random()*math.cos(amp)*(w/2)+(-r-(w/2))*math.cos(amp)\n",
    "        else: \n",
    "            xx = r + (w/2) + random.random()*math.cos(amp)*(w/2)+(r+(w/2))*math.cos(amp)\n",
    "        yy = -(random.random()*math.sin(amp)*(-w)-r*math.sin(amp))-d\n",
    "        dn[i] = -1\n",
    "    \n",
    "    #composição do vetor x(n)  \n",
    "    position = np.zeros(2)\n",
    "    position[0] = xx\n",
    "    position[1] = yy\n",
    "    auxPosition = position.copy()\n",
    "    xn.append(auxPosition)\n",
    "    \n",
    "    #LMS\n",
    "    yn[i] = np.dot(position,np.transpose(wn[:,i]))\n",
    "    en[i] = (dn[i] - yn[i])\n",
    "    wn[:,i+1] = wn[:,i] +  mu * en[i] * position\n",
    "\n",
    "#cálculo da saída com coeficientes finais\n",
    "for i in range(N):\n",
    "    yf[i] = (np.dot((np.transpose(wn[:,N])), xn[i]))\n",
    "\n",
    "#cálculo da taxa de erro\n",
    "yfsignal = np.sign(yf)\n",
    "errors = (int(np.sum(np.abs(dn-yfsignal))/2))\n",
    "errorRate = (errors/N)*100\n",
    "\n",
    "#coordenada dos erros\n",
    "positionErrors = []\n",
    "for i in range(N):\n",
    "    if (dn-yfsignal)[i] != 0:\n",
    "        positionErrors.append(xn[i])\n",
    "        \n",
    "#reta\n",
    "a = wn[:,N][0]\n",
    "b = wn[:,N][1]\n",
    "xs = symbols('x')\n",
    "ys = symbols('y')\n",
    "f = a*xs+b*ys\n",
    "straight = solve(f)\n",
    "xs = straight[0][xs]\n",
    "print (xs)\n",
    "print(dn[0:10])\n",
    "print(np.sign(yn)[0:10])"
   ]
  },
  {
   "cell_type": "code",
   "execution_count": 151,
   "metadata": {},
   "outputs": [
    {
     "data": {
      "image/png": "[encoded data removed]",
      "text/plain": [
       "<Figure size 432x288 with 1 Axes>"
      ]
     },
     "metadata": {
      "needs_background": "light"
     },
     "output_type": "display_data"
    },
    {
     "name": "stdout",
     "output_type": "stream",
     "text": [
      "Error rate = 24%\n"
     ]
    }
   ],
   "source": [
    "straightVector = np.array([1.086 ,1])\n",
    "straightPoints = []\n",
    "for i in range(3000):\n",
    "    straightPoints.append((i*0.001*straightVector))\n",
    "    straightPoints.append(-(i*0.001*straightVector))\n",
    "\n",
    "#plot de acertos (preto) e erros (vermelho)\n",
    "xNp = np.array(xn)\n",
    "x, y = xNp.T\n",
    "\n",
    "positionErrorsNp = np.array(positionErrors)\n",
    "xerror, yerror = positionErrorsNp.T\n",
    "\n",
    "straightPointsNp = np.array(straightPoints)\n",
    "xstraight, ystraight = straightPointsNp.T\n",
    "\n",
    "okPoint = plt.scatter(x, y, s = 1, c = 'black', marker = '+')\n",
    "mistakePoint = plt.scatter(xerror, yerror, s = 1, c = 'red', marker = '+')\n",
    "straightPoint = plt.scatter(xstraight, ystraight, s = 1, c = 'blue', marker = '+')\n",
    "plt.legend((okPoint, mistakePoint, straightPoint),\n",
    "           ('Ok', 'Mistakes', 'Straight'),\n",
    "           scatterpoints = 1,\n",
    "           loc = 'upper right',\n",
    "           ncol = 1,\n",
    "           fontsize = 10)\n",
    "plt.title('Simulation for - N = %i' %N + ' | d = %i' %d + ' | r = %i' %r + ' | w = %i' %w)\n",
    "plt.show()\n",
    "\n",
    "print('Error rate = %i' %errorRate + '%')"
   ]
  }
 ],
 "metadata": {
  "interpreter": {
   "hash": "b3ba2566441a7c06988d0923437866b63cedc61552a5af99d1f4fb67d367b25f"
  },
  "kernelspec": {
   "display_name": "Python 3 (ipykernel)",
   "language": "python",
   "name": "python3"
  },
  "language_info": {
   "codemirror_mode": {
    "name": "ipython",
    "version": 3
   },
   "file_extension": ".py",
   "mimetype": "text/x-python",
   "name": "python",
   "nbconvert_exporter": "python",
   "pygments_lexer": "ipython3",
   "version": "3.8.8"
  }
 },
 "nbformat": 4,
 "nbformat_minor": 2
}
